{
 "cells": [
  {
   "cell_type": "code",
   "execution_count": 1,
   "id": "b9dd8bb7-d756-4f9e-ade9-27b17768bb19",
   "metadata": {},
   "outputs": [],
   "source": [
    "import numpy as np\n",
    "import pandas as pd\n",
    "import matplotlib.pyplot as plt\n",
    "import seaborn as sns\n",
    "from scipy.stats import pearsonr"
   ]
  },
  {
   "cell_type": "code",
   "execution_count": 2,
   "id": "37a1fec0-4bc2-41bf-9be5-0b64e3356f99",
   "metadata": {},
   "outputs": [],
   "source": [
    "df = pd.read_csv('traffic.csv')"
   ]
  },
  {
   "cell_type": "code",
   "execution_count": 3,
   "id": "4687c883-4b0e-4bfa-878e-40f7ffa5592b",
   "metadata": {},
   "outputs": [
    {
     "data": {
      "text/html": [
       "<div>\n",
       "<style scoped>\n",
       "    .dataframe tbody tr th:only-of-type {\n",
       "        vertical-align: middle;\n",
       "    }\n",
       "\n",
       "    .dataframe tbody tr th {\n",
       "        vertical-align: top;\n",
       "    }\n",
       "\n",
       "    .dataframe thead th {\n",
       "        text-align: right;\n",
       "    }\n",
       "</style>\n",
       "<table border=\"1\" class=\"dataframe\">\n",
       "  <thead>\n",
       "    <tr style=\"text-align: right;\">\n",
       "      <th></th>\n",
       "      <th>event</th>\n",
       "      <th>date</th>\n",
       "      <th>country</th>\n",
       "      <th>city</th>\n",
       "      <th>artist</th>\n",
       "      <th>album</th>\n",
       "      <th>track</th>\n",
       "      <th>isrc</th>\n",
       "      <th>linkid</th>\n",
       "    </tr>\n",
       "  </thead>\n",
       "  <tbody>\n",
       "    <tr>\n",
       "      <th>0</th>\n",
       "      <td>click</td>\n",
       "      <td>2021-08-21</td>\n",
       "      <td>Saudi Arabia</td>\n",
       "      <td>Jeddah</td>\n",
       "      <td>Tesher</td>\n",
       "      <td>Jalebi Baby</td>\n",
       "      <td>Jalebi Baby</td>\n",
       "      <td>QZNWQ2070741</td>\n",
       "      <td>2d896d31-97b6-4869-967b-1c5fb9cd4bb8</td>\n",
       "    </tr>\n",
       "    <tr>\n",
       "      <th>1</th>\n",
       "      <td>click</td>\n",
       "      <td>2021-08-21</td>\n",
       "      <td>Saudi Arabia</td>\n",
       "      <td>Jeddah</td>\n",
       "      <td>Tesher</td>\n",
       "      <td>Jalebi Baby</td>\n",
       "      <td>Jalebi Baby</td>\n",
       "      <td>QZNWQ2070741</td>\n",
       "      <td>2d896d31-97b6-4869-967b-1c5fb9cd4bb8</td>\n",
       "    </tr>\n",
       "    <tr>\n",
       "      <th>2</th>\n",
       "      <td>click</td>\n",
       "      <td>2021-08-21</td>\n",
       "      <td>India</td>\n",
       "      <td>Ludhiana</td>\n",
       "      <td>Reyanna Maria</td>\n",
       "      <td>So Pretty</td>\n",
       "      <td>So Pretty</td>\n",
       "      <td>USUM72100871</td>\n",
       "      <td>23199824-9cf5-4b98-942a-34965c3b0cc2</td>\n",
       "    </tr>\n",
       "    <tr>\n",
       "      <th>3</th>\n",
       "      <td>click</td>\n",
       "      <td>2021-08-21</td>\n",
       "      <td>France</td>\n",
       "      <td>Unknown</td>\n",
       "      <td>Simone &amp; Simaria, Sebastian Yatra</td>\n",
       "      <td>No Llores Más</td>\n",
       "      <td>No Llores Más</td>\n",
       "      <td>BRUM72003904</td>\n",
       "      <td>35573248-4e49-47c7-af80-08a960fa74cd</td>\n",
       "    </tr>\n",
       "    <tr>\n",
       "      <th>4</th>\n",
       "      <td>click</td>\n",
       "      <td>2021-08-21</td>\n",
       "      <td>Maldives</td>\n",
       "      <td>Malé</td>\n",
       "      <td>Tesher</td>\n",
       "      <td>Jalebi Baby</td>\n",
       "      <td>Jalebi Baby</td>\n",
       "      <td>QZNWQ2070741</td>\n",
       "      <td>2d896d31-97b6-4869-967b-1c5fb9cd4bb8</td>\n",
       "    </tr>\n",
       "    <tr>\n",
       "      <th>...</th>\n",
       "      <td>...</td>\n",
       "      <td>...</td>\n",
       "      <td>...</td>\n",
       "      <td>...</td>\n",
       "      <td>...</td>\n",
       "      <td>...</td>\n",
       "      <td>...</td>\n",
       "      <td>...</td>\n",
       "      <td>...</td>\n",
       "    </tr>\n",
       "    <tr>\n",
       "      <th>226273</th>\n",
       "      <td>pageview</td>\n",
       "      <td>2021-08-24</td>\n",
       "      <td>Kuwait</td>\n",
       "      <td>Kuwait City</td>\n",
       "      <td>Sean Paul</td>\n",
       "      <td>The Trinity</td>\n",
       "      <td>Temperature</td>\n",
       "      <td>USAT20505520</td>\n",
       "      <td>04ba6b17-1055-4f0e-a75e-3cdb0d0d4106</td>\n",
       "    </tr>\n",
       "    <tr>\n",
       "      <th>226274</th>\n",
       "      <td>pageview</td>\n",
       "      <td>2021-08-24</td>\n",
       "      <td>India</td>\n",
       "      <td>Chennai</td>\n",
       "      <td>Miscél</td>\n",
       "      <td>when you left</td>\n",
       "      <td>when you left</td>\n",
       "      <td>QM42K1907890</td>\n",
       "      <td>2fc15e8b-83aa-40ee-9f9d-5d96c6d4356c</td>\n",
       "    </tr>\n",
       "    <tr>\n",
       "      <th>226275</th>\n",
       "      <td>pageview</td>\n",
       "      <td>2021-08-24</td>\n",
       "      <td>India</td>\n",
       "      <td>Jaipur</td>\n",
       "      <td>Trippie Redd, Lil Uzi Vert</td>\n",
       "      <td>Holy Smokes (feat. Lil Uzi Vert)</td>\n",
       "      <td>Holy Smokes</td>\n",
       "      <td>QZJ842001118</td>\n",
       "      <td>eedc8702-6bd2-499a-972f-260c35f72e0f</td>\n",
       "    </tr>\n",
       "    <tr>\n",
       "      <th>226276</th>\n",
       "      <td>pageview</td>\n",
       "      <td>2021-08-24</td>\n",
       "      <td>France</td>\n",
       "      <td>Unknown</td>\n",
       "      <td>Young Thug</td>\n",
       "      <td>Tick Tock</td>\n",
       "      <td>Tick Tock</td>\n",
       "      <td>USAT22104514</td>\n",
       "      <td>e0a76dc3-7ccd-405f-8ee8-a2c55c0e0ed2</td>\n",
       "    </tr>\n",
       "    <tr>\n",
       "      <th>226277</th>\n",
       "      <td>pageview</td>\n",
       "      <td>2021-08-24</td>\n",
       "      <td>Iraq</td>\n",
       "      <td>Duhok</td>\n",
       "      <td>Tesher</td>\n",
       "      <td>Jalebi Baby</td>\n",
       "      <td>Jalebi Baby</td>\n",
       "      <td>QZNWQ2070741</td>\n",
       "      <td>2d896d31-97b6-4869-967b-1c5fb9cd4bb8</td>\n",
       "    </tr>\n",
       "  </tbody>\n",
       "</table>\n",
       "<p>226278 rows × 9 columns</p>\n",
       "</div>"
      ],
      "text/plain": [
       "           event        date       country         city  \\\n",
       "0          click  2021-08-21  Saudi Arabia       Jeddah   \n",
       "1          click  2021-08-21  Saudi Arabia       Jeddah   \n",
       "2          click  2021-08-21         India     Ludhiana   \n",
       "3          click  2021-08-21        France      Unknown   \n",
       "4          click  2021-08-21      Maldives         Malé   \n",
       "...          ...         ...           ...          ...   \n",
       "226273  pageview  2021-08-24        Kuwait  Kuwait City   \n",
       "226274  pageview  2021-08-24         India      Chennai   \n",
       "226275  pageview  2021-08-24         India       Jaipur   \n",
       "226276  pageview  2021-08-24        France      Unknown   \n",
       "226277  pageview  2021-08-24          Iraq        Duhok   \n",
       "\n",
       "                                   artist                             album  \\\n",
       "0                                  Tesher                       Jalebi Baby   \n",
       "1                                  Tesher                       Jalebi Baby   \n",
       "2                           Reyanna Maria                         So Pretty   \n",
       "3       Simone & Simaria, Sebastian Yatra                     No Llores Más   \n",
       "4                                  Tesher                       Jalebi Baby   \n",
       "...                                   ...                               ...   \n",
       "226273                          Sean Paul                       The Trinity   \n",
       "226274                             Miscél                     when you left   \n",
       "226275         Trippie Redd, Lil Uzi Vert  Holy Smokes (feat. Lil Uzi Vert)   \n",
       "226276                         Young Thug                         Tick Tock   \n",
       "226277                             Tesher                       Jalebi Baby   \n",
       "\n",
       "                track          isrc                                linkid  \n",
       "0         Jalebi Baby  QZNWQ2070741  2d896d31-97b6-4869-967b-1c5fb9cd4bb8  \n",
       "1         Jalebi Baby  QZNWQ2070741  2d896d31-97b6-4869-967b-1c5fb9cd4bb8  \n",
       "2           So Pretty  USUM72100871  23199824-9cf5-4b98-942a-34965c3b0cc2  \n",
       "3       No Llores Más  BRUM72003904  35573248-4e49-47c7-af80-08a960fa74cd  \n",
       "4         Jalebi Baby  QZNWQ2070741  2d896d31-97b6-4869-967b-1c5fb9cd4bb8  \n",
       "...               ...           ...                                   ...  \n",
       "226273    Temperature  USAT20505520  04ba6b17-1055-4f0e-a75e-3cdb0d0d4106  \n",
       "226274  when you left  QM42K1907890  2fc15e8b-83aa-40ee-9f9d-5d96c6d4356c  \n",
       "226275    Holy Smokes  QZJ842001118  eedc8702-6bd2-499a-972f-260c35f72e0f  \n",
       "226276      Tick Tock  USAT22104514  e0a76dc3-7ccd-405f-8ee8-a2c55c0e0ed2  \n",
       "226277    Jalebi Baby  QZNWQ2070741  2d896d31-97b6-4869-967b-1c5fb9cd4bb8  \n",
       "\n",
       "[226278 rows x 9 columns]"
      ]
     },
     "execution_count": 3,
     "metadata": {},
     "output_type": "execute_result"
    }
   ],
   "source": [
    "df"
   ]
  },
  {
   "cell_type": "code",
   "execution_count": null,
   "id": "aa9329c0-2039-4eeb-8241-ecd580dd6701",
   "metadata": {},
   "outputs": [],
   "source": []
  },
  {
   "cell_type": "code",
   "execution_count": 4,
   "id": "1c39933c-9be2-4001-be85-018df88cde6e",
   "metadata": {},
   "outputs": [],
   "source": [
    "# 1. Total and Daily Pageview Events"
   ]
  },
  {
   "cell_type": "code",
   "execution_count": 5,
   "id": "f14763ff-10ec-45c5-ba65-b622c7fc5a81",
   "metadata": {},
   "outputs": [],
   "source": [
    "pageview = df[df['event'] == 'pageview']"
   ]
  },
  {
   "cell_type": "code",
   "execution_count": 6,
   "id": "10d6e778-2a9a-463f-a3a8-af85be34f5b6",
   "metadata": {},
   "outputs": [],
   "source": [
    "totalpageviews = pageview.shape[0]"
   ]
  },
  {
   "cell_type": "code",
   "execution_count": null,
   "id": "d591ef75-4618-45fc-a4ed-75bc3fa559b3",
   "metadata": {},
   "outputs": [],
   "source": []
  },
  {
   "cell_type": "code",
   "execution_count": 7,
   "id": "c66a9dd6-d2cf-4bd4-96ac-c874f9e8e6d4",
   "metadata": {},
   "outputs": [
    {
     "name": "stderr",
     "output_type": "stream",
     "text": [
      "C:\\Users\\iaman\\AppData\\Local\\Temp\\ipykernel_16868\\2628343424.py:1: SettingWithCopyWarning: \n",
      "A value is trying to be set on a copy of a slice from a DataFrame.\n",
      "Try using .loc[row_indexer,col_indexer] = value instead\n",
      "\n",
      "See the caveats in the documentation: https://pandas.pydata.org/pandas-docs/stable/user_guide/indexing.html#returning-a-view-versus-a-copy\n",
      "  pageview['date'] = pd.to_datetime(pageview['date'])\n"
     ]
    }
   ],
   "source": [
    "pageview['date'] = pd.to_datetime(pageview['date'])"
   ]
  },
  {
   "cell_type": "code",
   "execution_count": 8,
   "id": "122d255d-d6a9-4ec9-89a5-a4bf28715aed",
   "metadata": {},
   "outputs": [
    {
     "data": {
      "text/html": [
       "<div>\n",
       "<style scoped>\n",
       "    .dataframe tbody tr th:only-of-type {\n",
       "        vertical-align: middle;\n",
       "    }\n",
       "\n",
       "    .dataframe tbody tr th {\n",
       "        vertical-align: top;\n",
       "    }\n",
       "\n",
       "    .dataframe thead th {\n",
       "        text-align: right;\n",
       "    }\n",
       "</style>\n",
       "<table border=\"1\" class=\"dataframe\">\n",
       "  <thead>\n",
       "    <tr style=\"text-align: right;\">\n",
       "      <th></th>\n",
       "      <th>event</th>\n",
       "      <th>date</th>\n",
       "      <th>country</th>\n",
       "      <th>city</th>\n",
       "      <th>artist</th>\n",
       "      <th>album</th>\n",
       "      <th>track</th>\n",
       "      <th>isrc</th>\n",
       "      <th>linkid</th>\n",
       "    </tr>\n",
       "  </thead>\n",
       "  <tbody>\n",
       "    <tr>\n",
       "      <th>84043</th>\n",
       "      <td>pageview</td>\n",
       "      <td>2021-08-19</td>\n",
       "      <td>Saudi Arabia</td>\n",
       "      <td>Riyadh</td>\n",
       "      <td>Tesher</td>\n",
       "      <td>Jalebi Baby</td>\n",
       "      <td>Jalebi Baby</td>\n",
       "      <td>QZNWQ2070741</td>\n",
       "      <td>2d896d31-97b6-4869-967b-1c5fb9cd4bb8</td>\n",
       "    </tr>\n",
       "    <tr>\n",
       "      <th>84044</th>\n",
       "      <td>pageview</td>\n",
       "      <td>2021-08-19</td>\n",
       "      <td>United States</td>\n",
       "      <td>Absecon</td>\n",
       "      <td>KA$HDAMI</td>\n",
       "      <td>epiphany</td>\n",
       "      <td>Reparations!</td>\n",
       "      <td>QZFYY2115255</td>\n",
       "      <td>9c61dba1-9369-4ee4-a215-1d34581cd811</td>\n",
       "    </tr>\n",
       "    <tr>\n",
       "      <th>84045</th>\n",
       "      <td>pageview</td>\n",
       "      <td>2021-08-19</td>\n",
       "      <td>Saudi Arabia</td>\n",
       "      <td>Riyadh</td>\n",
       "      <td>Tesher</td>\n",
       "      <td>Jalebi Baby</td>\n",
       "      <td>Jalebi Baby</td>\n",
       "      <td>QZNWQ2070741</td>\n",
       "      <td>2d896d31-97b6-4869-967b-1c5fb9cd4bb8</td>\n",
       "    </tr>\n",
       "    <tr>\n",
       "      <th>84046</th>\n",
       "      <td>pageview</td>\n",
       "      <td>2021-08-19</td>\n",
       "      <td>Ireland</td>\n",
       "      <td>Mullingar</td>\n",
       "      <td>Cardi B</td>\n",
       "      <td>Up</td>\n",
       "      <td>Up</td>\n",
       "      <td>USAT22100061</td>\n",
       "      <td>9d847c0e-6824-438f-9dc1-d76fca6dc87c</td>\n",
       "    </tr>\n",
       "    <tr>\n",
       "      <th>84047</th>\n",
       "      <td>pageview</td>\n",
       "      <td>2021-08-19</td>\n",
       "      <td>United Kingdom</td>\n",
       "      <td>Northampton</td>\n",
       "      <td>Kayla Nicole, Taylor Girlz, Flo Milli</td>\n",
       "      <td>Bundles 2 (feat. Flo Milli, Taylor Girlz)</td>\n",
       "      <td>Bundles 2 (feat. Flo Milli, Taylor Girlz)</td>\n",
       "      <td>QMCE32100359</td>\n",
       "      <td>fbf4b935-f961-4b13-b1d8-45ad47093559</td>\n",
       "    </tr>\n",
       "    <tr>\n",
       "      <th>...</th>\n",
       "      <td>...</td>\n",
       "      <td>...</td>\n",
       "      <td>...</td>\n",
       "      <td>...</td>\n",
       "      <td>...</td>\n",
       "      <td>...</td>\n",
       "      <td>...</td>\n",
       "      <td>...</td>\n",
       "      <td>...</td>\n",
       "    </tr>\n",
       "    <tr>\n",
       "      <th>226273</th>\n",
       "      <td>pageview</td>\n",
       "      <td>2021-08-24</td>\n",
       "      <td>Kuwait</td>\n",
       "      <td>Kuwait City</td>\n",
       "      <td>Sean Paul</td>\n",
       "      <td>The Trinity</td>\n",
       "      <td>Temperature</td>\n",
       "      <td>USAT20505520</td>\n",
       "      <td>04ba6b17-1055-4f0e-a75e-3cdb0d0d4106</td>\n",
       "    </tr>\n",
       "    <tr>\n",
       "      <th>226274</th>\n",
       "      <td>pageview</td>\n",
       "      <td>2021-08-24</td>\n",
       "      <td>India</td>\n",
       "      <td>Chennai</td>\n",
       "      <td>Miscél</td>\n",
       "      <td>when you left</td>\n",
       "      <td>when you left</td>\n",
       "      <td>QM42K1907890</td>\n",
       "      <td>2fc15e8b-83aa-40ee-9f9d-5d96c6d4356c</td>\n",
       "    </tr>\n",
       "    <tr>\n",
       "      <th>226275</th>\n",
       "      <td>pageview</td>\n",
       "      <td>2021-08-24</td>\n",
       "      <td>India</td>\n",
       "      <td>Jaipur</td>\n",
       "      <td>Trippie Redd, Lil Uzi Vert</td>\n",
       "      <td>Holy Smokes (feat. Lil Uzi Vert)</td>\n",
       "      <td>Holy Smokes</td>\n",
       "      <td>QZJ842001118</td>\n",
       "      <td>eedc8702-6bd2-499a-972f-260c35f72e0f</td>\n",
       "    </tr>\n",
       "    <tr>\n",
       "      <th>226276</th>\n",
       "      <td>pageview</td>\n",
       "      <td>2021-08-24</td>\n",
       "      <td>France</td>\n",
       "      <td>Unknown</td>\n",
       "      <td>Young Thug</td>\n",
       "      <td>Tick Tock</td>\n",
       "      <td>Tick Tock</td>\n",
       "      <td>USAT22104514</td>\n",
       "      <td>e0a76dc3-7ccd-405f-8ee8-a2c55c0e0ed2</td>\n",
       "    </tr>\n",
       "    <tr>\n",
       "      <th>226277</th>\n",
       "      <td>pageview</td>\n",
       "      <td>2021-08-24</td>\n",
       "      <td>Iraq</td>\n",
       "      <td>Duhok</td>\n",
       "      <td>Tesher</td>\n",
       "      <td>Jalebi Baby</td>\n",
       "      <td>Jalebi Baby</td>\n",
       "      <td>QZNWQ2070741</td>\n",
       "      <td>2d896d31-97b6-4869-967b-1c5fb9cd4bb8</td>\n",
       "    </tr>\n",
       "  </tbody>\n",
       "</table>\n",
       "<p>142015 rows × 9 columns</p>\n",
       "</div>"
      ],
      "text/plain": [
       "           event       date         country         city  \\\n",
       "84043   pageview 2021-08-19    Saudi Arabia       Riyadh   \n",
       "84044   pageview 2021-08-19   United States      Absecon   \n",
       "84045   pageview 2021-08-19    Saudi Arabia       Riyadh   \n",
       "84046   pageview 2021-08-19         Ireland    Mullingar   \n",
       "84047   pageview 2021-08-19  United Kingdom  Northampton   \n",
       "...          ...        ...             ...          ...   \n",
       "226273  pageview 2021-08-24          Kuwait  Kuwait City   \n",
       "226274  pageview 2021-08-24           India      Chennai   \n",
       "226275  pageview 2021-08-24           India       Jaipur   \n",
       "226276  pageview 2021-08-24          France      Unknown   \n",
       "226277  pageview 2021-08-24            Iraq        Duhok   \n",
       "\n",
       "                                       artist  \\\n",
       "84043                                  Tesher   \n",
       "84044                                KA$HDAMI   \n",
       "84045                                  Tesher   \n",
       "84046                                 Cardi B   \n",
       "84047   Kayla Nicole, Taylor Girlz, Flo Milli   \n",
       "...                                       ...   \n",
       "226273                              Sean Paul   \n",
       "226274                                 Miscél   \n",
       "226275             Trippie Redd, Lil Uzi Vert   \n",
       "226276                             Young Thug   \n",
       "226277                                 Tesher   \n",
       "\n",
       "                                            album  \\\n",
       "84043                                 Jalebi Baby   \n",
       "84044                                    epiphany   \n",
       "84045                                 Jalebi Baby   \n",
       "84046                                          Up   \n",
       "84047   Bundles 2 (feat. Flo Milli, Taylor Girlz)   \n",
       "...                                           ...   \n",
       "226273                                The Trinity   \n",
       "226274                              when you left   \n",
       "226275           Holy Smokes (feat. Lil Uzi Vert)   \n",
       "226276                                  Tick Tock   \n",
       "226277                                Jalebi Baby   \n",
       "\n",
       "                                            track          isrc  \\\n",
       "84043                                 Jalebi Baby  QZNWQ2070741   \n",
       "84044                                Reparations!  QZFYY2115255   \n",
       "84045                                 Jalebi Baby  QZNWQ2070741   \n",
       "84046                                          Up  USAT22100061   \n",
       "84047   Bundles 2 (feat. Flo Milli, Taylor Girlz)  QMCE32100359   \n",
       "...                                           ...           ...   \n",
       "226273                                Temperature  USAT20505520   \n",
       "226274                              when you left  QM42K1907890   \n",
       "226275                                Holy Smokes  QZJ842001118   \n",
       "226276                                  Tick Tock  USAT22104514   \n",
       "226277                                Jalebi Baby  QZNWQ2070741   \n",
       "\n",
       "                                      linkid  \n",
       "84043   2d896d31-97b6-4869-967b-1c5fb9cd4bb8  \n",
       "84044   9c61dba1-9369-4ee4-a215-1d34581cd811  \n",
       "84045   2d896d31-97b6-4869-967b-1c5fb9cd4bb8  \n",
       "84046   9d847c0e-6824-438f-9dc1-d76fca6dc87c  \n",
       "84047   fbf4b935-f961-4b13-b1d8-45ad47093559  \n",
       "...                                      ...  \n",
       "226273  04ba6b17-1055-4f0e-a75e-3cdb0d0d4106  \n",
       "226274  2fc15e8b-83aa-40ee-9f9d-5d96c6d4356c  \n",
       "226275  eedc8702-6bd2-499a-972f-260c35f72e0f  \n",
       "226276  e0a76dc3-7ccd-405f-8ee8-a2c55c0e0ed2  \n",
       "226277  2d896d31-97b6-4869-967b-1c5fb9cd4bb8  \n",
       "\n",
       "[142015 rows x 9 columns]"
      ]
     },
     "execution_count": 8,
     "metadata": {},
     "output_type": "execute_result"
    }
   ],
   "source": [
    "pageview"
   ]
  },
  {
   "cell_type": "code",
   "execution_count": 9,
   "id": "78db7a67-d3c7-4763-8eaa-d590fd27275a",
   "metadata": {},
   "outputs": [],
   "source": [
    "dailypageviews = pageview.groupby(pageview['date'].dt.date).size()"
   ]
  },
  {
   "cell_type": "code",
   "execution_count": 10,
   "id": "49b6499e-37c6-465e-a98a-fb7104fd1db7",
   "metadata": {},
   "outputs": [
    {
     "data": {
      "text/plain": [
       "20287.85714285714"
      ]
     },
     "execution_count": 10,
     "metadata": {},
     "output_type": "execute_result"
    }
   ],
   "source": [
    "avg_pageviews = dailypageviews.mean()\n",
    "avg_pageviews"
   ]
  },
  {
   "cell_type": "code",
   "execution_count": 11,
   "id": "c4c40499-9087-424e-9d2b-34c811973b56",
   "metadata": {},
   "outputs": [
    {
     "data": {
      "text/plain": [
       "(142015, 20287.85714285714)"
      ]
     },
     "execution_count": 11,
     "metadata": {},
     "output_type": "execute_result"
    }
   ],
   "source": [
    "totalpageviews, avg_pageviews"
   ]
  },
  {
   "cell_type": "code",
   "execution_count": 12,
   "id": "e474bb04-144c-46b3-8431-dd7e81fa948f",
   "metadata": {},
   "outputs": [
    {
     "data": {
      "image/png": "[encoded data removed]",
      "text/plain": [
       "<Figure size 1000x600 with 1 Axes>"
      ]
     },
     "metadata": {},
     "output_type": "display_data"
    }
   ],
   "source": [
    "plt.figure(figsize=(10, 6))\n",
    "plt.plot(dailypageviews.index, dailypageviews.values, marker='o')\n",
    "plt.title('Total Pageviews per Day')\n",
    "plt.xlabel('Date')\n",
    "plt.ylabel('Pageviews')\n",
    "plt.xticks(rotation=45)\n",
    "plt.show()"
   ]
  },
  {
   "cell_type": "code",
   "execution_count": null,
   "id": "b1cd0f0f-e6e5-4222-92c0-fb4cd95e2348",
   "metadata": {},
   "outputs": [],
   "source": []
  },
  {
   "cell_type": "code",
   "execution_count": null,
   "id": "7c2c132c-9dc1-4c41-9665-66142e16fa7b",
   "metadata": {},
   "outputs": [],
   "source": []
  },
  {
   "cell_type": "code",
   "execution_count": 13,
   "id": "54f9898c-6e9a-4a63-a0dc-cdc02c23e1dd",
   "metadata": {},
   "outputs": [],
   "source": [
    "# 2. Analysis Of Other Events"
   ]
  },
  {
   "cell_type": "code",
   "execution_count": 14,
   "id": "4788db88-99f9-47ea-a00a-9ab4ed7c5b5a",
   "metadata": {},
   "outputs": [],
   "source": [
    "other_events = df['event'].value_counts()"
   ]
  },
  {
   "cell_type": "code",
   "execution_count": 15,
   "id": "00543268-abfc-4321-8646-003394228ba1",
   "metadata": {},
   "outputs": [
    {
     "data": {
      "text/plain": [
       "event\n",
       "pageview    142015\n",
       "click        55732\n",
       "preview      28531\n",
       "Name: count, dtype: int64"
      ]
     },
     "execution_count": 15,
     "metadata": {},
     "output_type": "execute_result"
    }
   ],
   "source": [
    "other_events"
   ]
  },
  {
   "cell_type": "code",
   "execution_count": 16,
   "id": "ed36f64f-87a9-49f2-afa6-7d1457395d91",
   "metadata": {},
   "outputs": [
    {
     "name": "stderr",
     "output_type": "stream",
     "text": [
      "C:\\Users\\iaman\\AppData\\Local\\Temp\\ipykernel_16868\\522062904.py:1: FutureWarning: Series.__getitem__ treating keys as positions is deprecated. In a future version, integer keys will always be treated as labels (consistent with DataFrame behavior). To access a value by position, use `ser.iloc[pos]`\n",
      "  total_other_events = other_events[1] + other_events[2]\n"
     ]
    }
   ],
   "source": [
    "total_other_events = other_events[1] + other_events[2]"
   ]
  },
  {
   "cell_type": "code",
   "execution_count": 17,
   "id": "324e71d1-bcfa-468a-a820-38c44fd20893",
   "metadata": {},
   "outputs": [
    {
     "data": {
      "text/plain": [
       "84263"
      ]
     },
     "execution_count": 17,
     "metadata": {},
     "output_type": "execute_result"
    }
   ],
   "source": [
    "total_other_events"
   ]
  },
  {
   "cell_type": "code",
   "execution_count": 18,
   "id": "4aa97e00-0c84-4041-87f3-0933a2a70212",
   "metadata": {},
   "outputs": [
    {
     "name": "stderr",
     "output_type": "stream",
     "text": [
      "C:\\Users\\iaman\\AppData\\Local\\Temp\\ipykernel_16868\\4283310961.py:2: FutureWarning: \n",
      "\n",
      "Passing `palette` without assigning `hue` is deprecated and will be removed in v0.14.0. Assign the `x` variable to `hue` and set `legend=False` for the same effect.\n",
      "\n",
      "  sns.barplot(x=other_events.index, y=other_events.values, palette='Blues_d')\n"
     ]
    },
    {
     "data": {
      "image/png": "[encoded data removed]",
      "text/plain": [
       "<Figure size 800x600 with 1 Axes>"
      ]
     },
     "metadata": {},
     "output_type": "display_data"
    }
   ],
   "source": [
    "plt.figure(figsize=(8, 6))\n",
    "sns.barplot(x=other_events.index, y=other_events.values, palette='Blues_d')\n",
    "plt.title('Distribution of Event Types')\n",
    "plt.xlabel('Event Type')\n",
    "plt.ylabel('Count')\n",
    "plt.show()"
   ]
  },
  {
   "cell_type": "code",
   "execution_count": null,
   "id": "c89ccc31-45c7-4cf6-918e-5b0cae494a6d",
   "metadata": {},
   "outputs": [],
   "source": []
  },
  {
   "cell_type": "code",
   "execution_count": 19,
   "id": "d810dff3-87f1-4ee1-9325-600161128bd1",
   "metadata": {},
   "outputs": [],
   "source": [
    "# 3. Geographical Distribution"
   ]
  },
  {
   "cell_type": "code",
   "execution_count": 20,
   "id": "75d97bec-d072-448b-ac11-3489a7433242",
   "metadata": {},
   "outputs": [],
   "source": [
    "geo_dist = pageview['country'].value_counts()"
   ]
  },
  {
   "cell_type": "code",
   "execution_count": 21,
   "id": "393134be-8b2d-468c-b76a-fabe867668c1",
   "metadata": {},
   "outputs": [
    {
     "data": {
      "text/plain": [
       "country\n",
       "Saudi Arabia         28873\n",
       "India                27286\n",
       "United States        20839\n",
       "France                9674\n",
       "Iraq                  4897\n",
       "                     ...  \n",
       "Wallis and Futuna        1\n",
       "Solomon Islands          1\n",
       "Guinea-Bissau            1\n",
       "Lesotho                  1\n",
       "Saint Martin             1\n",
       "Name: count, Length: 211, dtype: int64"
      ]
     },
     "execution_count": 21,
     "metadata": {},
     "output_type": "execute_result"
    }
   ],
   "source": [
    "geo_dist"
   ]
  },
  {
   "cell_type": "code",
   "execution_count": 22,
   "id": "bb19aa99-8915-4139-9919-c4a47802891f",
   "metadata": {},
   "outputs": [
    {
     "name": "stderr",
     "output_type": "stream",
     "text": [
      "C:\\Users\\iaman\\AppData\\Local\\Temp\\ipykernel_16868\\1718175617.py:2: FutureWarning: \n",
      "\n",
      "Passing `palette` without assigning `hue` is deprecated and will be removed in v0.14.0. Assign the `x` variable to `hue` and set `legend=False` for the same effect.\n",
      "\n",
      "  sns.barplot(x=geo_dist.head(10).index, y=geo_dist.head(10).values, palette='Purples_d')\n"
     ]
    },
    {
     "data": {
      "image/png": "[encoded data removed]",
      "text/plain": [
       "<Figure size 1000x600 with 1 Axes>"
      ]
     },
     "metadata": {},
     "output_type": "display_data"
    }
   ],
   "source": [
    "plt.figure(figsize=(10, 6))\n",
    "sns.barplot(x=geo_dist.head(10).index, y=geo_dist.head(10).values, palette='Purples_d')\n",
    "plt.title('Top 10 Countries Contributed to Pageviews')\n",
    "plt.xlabel('Country')\n",
    "plt.ylabel('Pageviews')\n",
    "plt.xticks(rotation=45)\n",
    "plt.show()"
   ]
  },
  {
   "cell_type": "code",
   "execution_count": null,
   "id": "d814de84-aa0b-4cfc-9b3b-ae5efdafe1e8",
   "metadata": {},
   "outputs": [],
   "source": []
  },
  {
   "cell_type": "code",
   "execution_count": null,
   "id": "c4061791-d859-4f23-8691-2bf8eee5859f",
   "metadata": {},
   "outputs": [],
   "source": []
  },
  {
   "cell_type": "code",
   "execution_count": null,
   "id": "f5f8c80e-2954-4966-a387-4fbf64e879d4",
   "metadata": {},
   "outputs": [],
   "source": []
  },
  {
   "cell_type": "code",
   "execution_count": null,
   "id": "ba7dfed3-641a-4f5b-ba1c-5a4ddeca7ccb",
   "metadata": {},
   "outputs": [],
   "source": []
  },
  {
   "cell_type": "code",
   "execution_count": 23,
   "id": "28195b45-44fb-4279-896d-a71373db55ff",
   "metadata": {},
   "outputs": [],
   "source": [
    "#4. Click-Through Rate (CTR) analysis"
   ]
  },
  {
   "cell_type": "code",
   "execution_count": null,
   "id": "9783f256-889f-4b03-a9a9-9e272de33984",
   "metadata": {},
   "outputs": [],
   "source": []
  },
  {
   "cell_type": "code",
   "execution_count": 24,
   "id": "78e90d80-04c5-4367-9c26-56ef2d52a970",
   "metadata": {},
   "outputs": [
    {
     "name": "stderr",
     "output_type": "stream",
     "text": [
      "C:\\Users\\iaman\\AppData\\Local\\Temp\\ipykernel_16868\\2913759854.py:1: FutureWarning: Series.__getitem__ treating keys as positions is deprecated. In a future version, integer keys will always be treated as labels (consistent with DataFrame behavior). To access a value by position, use `ser.iloc[pos]`\n",
      "  overall_ctr = other_events[1]/other_events[0]\n"
     ]
    }
   ],
   "source": [
    "overall_ctr = other_events[1]/other_events[0]"
   ]
  },
  {
   "cell_type": "code",
   "execution_count": 25,
   "id": "c79d94b2-239d-4432-aacd-832be70292e8",
   "metadata": {},
   "outputs": [
    {
     "data": {
      "text/plain": [
       "0.3924374185825441"
      ]
     },
     "execution_count": 25,
     "metadata": {},
     "output_type": "execute_result"
    }
   ],
   "source": [
    "overall_ctr"
   ]
  },
  {
   "cell_type": "code",
   "execution_count": 26,
   "id": "66bbfcef-5511-4968-b855-233830519595",
   "metadata": {},
   "outputs": [],
   "source": [
    "clicks = df[df['event'] == 'click']"
   ]
  },
  {
   "cell_type": "code",
   "execution_count": 27,
   "id": "5e37161b-89d8-4c84-a2f5-adfbf5ee0bc2",
   "metadata": {},
   "outputs": [
    {
     "data": {
      "text/plain": [
       "142015"
      ]
     },
     "execution_count": 27,
     "metadata": {},
     "output_type": "execute_result"
    }
   ],
   "source": [
    "totalpageviews"
   ]
  },
  {
   "cell_type": "code",
   "execution_count": null,
   "id": "e5f3d6e7-2571-49ae-9d87-3f917ba7f553",
   "metadata": {},
   "outputs": [],
   "source": []
  },
  {
   "cell_type": "code",
   "execution_count": 28,
   "id": "ce8c5222-6b39-4eb0-8bf9-d2c59c2a4d9f",
   "metadata": {},
   "outputs": [],
   "source": [
    "pageview_count_per_link = pageview.groupby('linkid').size().reset_index(name='pageviews')"
   ]
  },
  {
   "cell_type": "code",
   "execution_count": 29,
   "id": "1ba52e44-2fea-4781-b85e-64209da81fdf",
   "metadata": {},
   "outputs": [],
   "source": [
    "click_count_per_link = clicks.groupby('linkid').size().reset_index(name='clicks')"
   ]
  },
  {
   "cell_type": "code",
   "execution_count": null,
   "id": "dacad5d2-e994-40b6-91b7-dd9c1bf750ba",
   "metadata": {},
   "outputs": [],
   "source": []
  },
  {
   "cell_type": "code",
   "execution_count": 30,
   "id": "7f370d55-50be-4a41-ad88-f4a954370d09",
   "metadata": {},
   "outputs": [],
   "source": [
    "ctr_data = pd.merge(pageview_count_per_link, click_count_per_link, on='linkid',suffixes=('_pageviews','_clicks'))"
   ]
  },
  {
   "cell_type": "code",
   "execution_count": 31,
   "id": "6393a8f7-7e2b-4722-9415-97ecf1b715d1",
   "metadata": {},
   "outputs": [
    {
     "data": {
      "text/html": [
       "<div>\n",
       "<style scoped>\n",
       "    .dataframe tbody tr th:only-of-type {\n",
       "        vertical-align: middle;\n",
       "    }\n",
       "\n",
       "    .dataframe tbody tr th {\n",
       "        vertical-align: top;\n",
       "    }\n",
       "\n",
       "    .dataframe thead th {\n",
       "        text-align: right;\n",
       "    }\n",
       "</style>\n",
       "<table border=\"1\" class=\"dataframe\">\n",
       "  <thead>\n",
       "    <tr style=\"text-align: right;\">\n",
       "      <th></th>\n",
       "      <th>linkid</th>\n",
       "      <th>pageviews</th>\n",
       "      <th>clicks</th>\n",
       "    </tr>\n",
       "  </thead>\n",
       "  <tbody>\n",
       "    <tr>\n",
       "      <th>0</th>\n",
       "      <td>00126b32-0c35-507b-981c-02c80d2aa8e7</td>\n",
       "      <td>2</td>\n",
       "      <td>2</td>\n",
       "    </tr>\n",
       "    <tr>\n",
       "      <th>1</th>\n",
       "      <td>004b9724-abca-5481-b6e9-6148a7ca00a5</td>\n",
       "      <td>1</td>\n",
       "      <td>1</td>\n",
       "    </tr>\n",
       "    <tr>\n",
       "      <th>2</th>\n",
       "      <td>0063a982-41cd-5629-96d0-e1c4dd72ea11</td>\n",
       "      <td>3</td>\n",
       "      <td>2</td>\n",
       "    </tr>\n",
       "    <tr>\n",
       "      <th>3</th>\n",
       "      <td>006af6a0-1f0d-4b0c-93bf-756af9071c06</td>\n",
       "      <td>36</td>\n",
       "      <td>8</td>\n",
       "    </tr>\n",
       "    <tr>\n",
       "      <th>4</th>\n",
       "      <td>00759b81-3f04-4a61-b934-f8fb3185f4a0</td>\n",
       "      <td>4</td>\n",
       "      <td>3</td>\n",
       "    </tr>\n",
       "    <tr>\n",
       "      <th>...</th>\n",
       "      <td>...</td>\n",
       "      <td>...</td>\n",
       "      <td>...</td>\n",
       "    </tr>\n",
       "    <tr>\n",
       "      <th>2248</th>\n",
       "      <td>ffd8d5a7-91bc-48e1-a692-c26fca8a8ead</td>\n",
       "      <td>84</td>\n",
       "      <td>29</td>\n",
       "    </tr>\n",
       "    <tr>\n",
       "      <th>2249</th>\n",
       "      <td>fff38ca0-8043-50cd-a5f1-f65ebb7105c5</td>\n",
       "      <td>1</td>\n",
       "      <td>1</td>\n",
       "    </tr>\n",
       "    <tr>\n",
       "      <th>2250</th>\n",
       "      <td>fff84c0e-90a1-59d8-9997-adc909d50e16</td>\n",
       "      <td>1</td>\n",
       "      <td>1</td>\n",
       "    </tr>\n",
       "    <tr>\n",
       "      <th>2251</th>\n",
       "      <td>fffc17a7-f935-5d3e-bd3e-d761fd80d479</td>\n",
       "      <td>2</td>\n",
       "      <td>1</td>\n",
       "    </tr>\n",
       "    <tr>\n",
       "      <th>2252</th>\n",
       "      <td>fffd0045-29de-522b-b5d8-35786363bf07</td>\n",
       "      <td>2</td>\n",
       "      <td>1</td>\n",
       "    </tr>\n",
       "  </tbody>\n",
       "</table>\n",
       "<p>2253 rows × 3 columns</p>\n",
       "</div>"
      ],
      "text/plain": [
       "                                    linkid  pageviews  clicks\n",
       "0     00126b32-0c35-507b-981c-02c80d2aa8e7          2       2\n",
       "1     004b9724-abca-5481-b6e9-6148a7ca00a5          1       1\n",
       "2     0063a982-41cd-5629-96d0-e1c4dd72ea11          3       2\n",
       "3     006af6a0-1f0d-4b0c-93bf-756af9071c06         36       8\n",
       "4     00759b81-3f04-4a61-b934-f8fb3185f4a0          4       3\n",
       "...                                    ...        ...     ...\n",
       "2248  ffd8d5a7-91bc-48e1-a692-c26fca8a8ead         84      29\n",
       "2249  fff38ca0-8043-50cd-a5f1-f65ebb7105c5          1       1\n",
       "2250  fff84c0e-90a1-59d8-9997-adc909d50e16          1       1\n",
       "2251  fffc17a7-f935-5d3e-bd3e-d761fd80d479          2       1\n",
       "2252  fffd0045-29de-522b-b5d8-35786363bf07          2       1\n",
       "\n",
       "[2253 rows x 3 columns]"
      ]
     },
     "execution_count": 31,
     "metadata": {},
     "output_type": "execute_result"
    }
   ],
   "source": [
    "ctr_data"
   ]
  },
  {
   "cell_type": "code",
   "execution_count": 32,
   "id": "4b84861d-8a09-4f97-b26c-5bbb71f58a8f",
   "metadata": {},
   "outputs": [],
   "source": [
    "ctr_data['CTR'] = ctr_data['clicks']/ctr_data['pageviews']"
   ]
  },
  {
   "cell_type": "code",
   "execution_count": 33,
   "id": "3d1fc4d1-7b93-4af8-b836-50adac0e8f18",
   "metadata": {},
   "outputs": [],
   "source": [
    "ctr_data_sorted = ctr_data.sort_values(by='CTR',ascending=False)"
   ]
  },
  {
   "cell_type": "code",
   "execution_count": 34,
   "id": "a503ea48-3f01-456f-8b23-90cc03b19754",
   "metadata": {},
   "outputs": [
    {
     "data": {
      "text/html": [
       "<div>\n",
       "<style scoped>\n",
       "    .dataframe tbody tr th:only-of-type {\n",
       "        vertical-align: middle;\n",
       "    }\n",
       "\n",
       "    .dataframe tbody tr th {\n",
       "        vertical-align: top;\n",
       "    }\n",
       "\n",
       "    .dataframe thead th {\n",
       "        text-align: right;\n",
       "    }\n",
       "</style>\n",
       "<table border=\"1\" class=\"dataframe\">\n",
       "  <thead>\n",
       "    <tr style=\"text-align: right;\">\n",
       "      <th></th>\n",
       "      <th>linkid</th>\n",
       "      <th>pageviews</th>\n",
       "      <th>clicks</th>\n",
       "      <th>CTR</th>\n",
       "    </tr>\n",
       "  </thead>\n",
       "  <tbody>\n",
       "    <tr>\n",
       "      <th>1789</th>\n",
       "      <td>c95f1fc1-fab0-4c74-b3f5-52bd3684a713</td>\n",
       "      <td>10</td>\n",
       "      <td>923</td>\n",
       "      <td>92.300000</td>\n",
       "    </tr>\n",
       "    <tr>\n",
       "      <th>470</th>\n",
       "      <td>330773a6-f22a-5c7a-a3e4-7809fe8539b9</td>\n",
       "      <td>1</td>\n",
       "      <td>3</td>\n",
       "      <td>3.000000</td>\n",
       "    </tr>\n",
       "    <tr>\n",
       "      <th>371</th>\n",
       "      <td>27a91fe1-9fc0-5c28-9e9e-19ff0e7357a7</td>\n",
       "      <td>1</td>\n",
       "      <td>3</td>\n",
       "      <td>3.000000</td>\n",
       "    </tr>\n",
       "    <tr>\n",
       "      <th>1739</th>\n",
       "      <td>c2d99bb2-6ea3-568c-80d3-44dc36250cbc</td>\n",
       "      <td>1</td>\n",
       "      <td>2</td>\n",
       "      <td>2.000000</td>\n",
       "    </tr>\n",
       "    <tr>\n",
       "      <th>172</th>\n",
       "      <td>132c744a-d87b-5ed6-aff2-d9b8c718a4ea</td>\n",
       "      <td>1</td>\n",
       "      <td>2</td>\n",
       "      <td>2.000000</td>\n",
       "    </tr>\n",
       "    <tr>\n",
       "      <th>...</th>\n",
       "      <td>...</td>\n",
       "      <td>...</td>\n",
       "      <td>...</td>\n",
       "      <td>...</td>\n",
       "    </tr>\n",
       "    <tr>\n",
       "      <th>1136</th>\n",
       "      <td>7cf99126-2092-4b29-bdf9-a2f8ad5500ed</td>\n",
       "      <td>8</td>\n",
       "      <td>1</td>\n",
       "      <td>0.125000</td>\n",
       "    </tr>\n",
       "    <tr>\n",
       "      <th>1009</th>\n",
       "      <td>6e6c1939-9d37-450e-aec1-2af09140bc33</td>\n",
       "      <td>11</td>\n",
       "      <td>1</td>\n",
       "      <td>0.090909</td>\n",
       "    </tr>\n",
       "    <tr>\n",
       "      <th>1004</th>\n",
       "      <td>6dacffe9-779d-4e9b-94dd-a3e811b2983e</td>\n",
       "      <td>11</td>\n",
       "      <td>1</td>\n",
       "      <td>0.090909</td>\n",
       "    </tr>\n",
       "    <tr>\n",
       "      <th>324</th>\n",
       "      <td>229f278b-f052-57e7-813d-15d25f226723</td>\n",
       "      <td>11</td>\n",
       "      <td>1</td>\n",
       "      <td>0.090909</td>\n",
       "    </tr>\n",
       "    <tr>\n",
       "      <th>1238</th>\n",
       "      <td>899f223b-55f0-5f5a-8351-3ea64d0ce29f</td>\n",
       "      <td>11</td>\n",
       "      <td>1</td>\n",
       "      <td>0.090909</td>\n",
       "    </tr>\n",
       "  </tbody>\n",
       "</table>\n",
       "<p>2253 rows × 4 columns</p>\n",
       "</div>"
      ],
      "text/plain": [
       "                                    linkid  pageviews  clicks        CTR\n",
       "1789  c95f1fc1-fab0-4c74-b3f5-52bd3684a713         10     923  92.300000\n",
       "470   330773a6-f22a-5c7a-a3e4-7809fe8539b9          1       3   3.000000\n",
       "371   27a91fe1-9fc0-5c28-9e9e-19ff0e7357a7          1       3   3.000000\n",
       "1739  c2d99bb2-6ea3-568c-80d3-44dc36250cbc          1       2   2.000000\n",
       "172   132c744a-d87b-5ed6-aff2-d9b8c718a4ea          1       2   2.000000\n",
       "...                                    ...        ...     ...        ...\n",
       "1136  7cf99126-2092-4b29-bdf9-a2f8ad5500ed          8       1   0.125000\n",
       "1009  6e6c1939-9d37-450e-aec1-2af09140bc33         11       1   0.090909\n",
       "1004  6dacffe9-779d-4e9b-94dd-a3e811b2983e         11       1   0.090909\n",
       "324   229f278b-f052-57e7-813d-15d25f226723         11       1   0.090909\n",
       "1238  899f223b-55f0-5f5a-8351-3ea64d0ce29f         11       1   0.090909\n",
       "\n",
       "[2253 rows x 4 columns]"
      ]
     },
     "execution_count": 34,
     "metadata": {},
     "output_type": "execute_result"
    }
   ],
   "source": [
    "ctr_data_sorted"
   ]
  },
  {
   "cell_type": "code",
   "execution_count": 35,
   "id": "1760c58f-c7d7-4c0f-bf74-71487a909fff",
   "metadata": {},
   "outputs": [],
   "source": [
    "low_ctr_links = ctr_data[ctr_data['CTR'] < 0.1]"
   ]
  },
  {
   "cell_type": "code",
   "execution_count": 36,
   "id": "66d24a77-bc1c-4d6d-89cb-3e5be908e71b",
   "metadata": {},
   "outputs": [
    {
     "data": {
      "text/html": [
       "<div>\n",
       "<style scoped>\n",
       "    .dataframe tbody tr th:only-of-type {\n",
       "        vertical-align: middle;\n",
       "    }\n",
       "\n",
       "    .dataframe tbody tr th {\n",
       "        vertical-align: top;\n",
       "    }\n",
       "\n",
       "    .dataframe thead th {\n",
       "        text-align: right;\n",
       "    }\n",
       "</style>\n",
       "<table border=\"1\" class=\"dataframe\">\n",
       "  <thead>\n",
       "    <tr style=\"text-align: right;\">\n",
       "      <th></th>\n",
       "      <th>linkid</th>\n",
       "      <th>pageviews</th>\n",
       "      <th>clicks</th>\n",
       "      <th>CTR</th>\n",
       "    </tr>\n",
       "  </thead>\n",
       "  <tbody>\n",
       "    <tr>\n",
       "      <th>324</th>\n",
       "      <td>229f278b-f052-57e7-813d-15d25f226723</td>\n",
       "      <td>11</td>\n",
       "      <td>1</td>\n",
       "      <td>0.090909</td>\n",
       "    </tr>\n",
       "    <tr>\n",
       "      <th>1004</th>\n",
       "      <td>6dacffe9-779d-4e9b-94dd-a3e811b2983e</td>\n",
       "      <td>11</td>\n",
       "      <td>1</td>\n",
       "      <td>0.090909</td>\n",
       "    </tr>\n",
       "    <tr>\n",
       "      <th>1009</th>\n",
       "      <td>6e6c1939-9d37-450e-aec1-2af09140bc33</td>\n",
       "      <td>11</td>\n",
       "      <td>1</td>\n",
       "      <td>0.090909</td>\n",
       "    </tr>\n",
       "    <tr>\n",
       "      <th>1238</th>\n",
       "      <td>899f223b-55f0-5f5a-8351-3ea64d0ce29f</td>\n",
       "      <td>11</td>\n",
       "      <td>1</td>\n",
       "      <td>0.090909</td>\n",
       "    </tr>\n",
       "  </tbody>\n",
       "</table>\n",
       "</div>"
      ],
      "text/plain": [
       "                                    linkid  pageviews  clicks       CTR\n",
       "324   229f278b-f052-57e7-813d-15d25f226723         11       1  0.090909\n",
       "1004  6dacffe9-779d-4e9b-94dd-a3e811b2983e         11       1  0.090909\n",
       "1009  6e6c1939-9d37-450e-aec1-2af09140bc33         11       1  0.090909\n",
       "1238  899f223b-55f0-5f5a-8351-3ea64d0ce29f         11       1  0.090909"
      ]
     },
     "execution_count": 36,
     "metadata": {},
     "output_type": "execute_result"
    }
   ],
   "source": [
    "low_ctr_links"
   ]
  },
  {
   "cell_type": "code",
   "execution_count": 37,
   "id": "a10fc8c7-a6f2-423f-921b-5d85434ee563",
   "metadata": {},
   "outputs": [
    {
     "data": {
      "image/png": "[encoded data removed]",
      "text/plain": [
       "<Figure size 2000x1800 with 1 Axes>"
      ]
     },
     "metadata": {},
     "output_type": "display_data"
    }
   ],
   "source": [
    "plt.figure(figsize=(20, 18))\n",
    "plt.hist(ctr_data['CTR'], bins=250, color='red', edgecolor='yellow')\n",
    "plt.title('Distribution of CTR Across Links')\n",
    "plt.xlabel('CTR')\n",
    "plt.ylabel('Number of Links')\n",
    "plt.show()"
   ]
  },
  {
   "cell_type": "code",
   "execution_count": 38,
   "id": "c4ef361c-7c4b-42db-81a9-dfa4cda437b7",
   "metadata": {},
   "outputs": [
    {
     "data": {
      "image/png": "[encoded data removed]",
      "text/plain": [
       "<Figure size 1000x600 with 1 Axes>"
      ]
     },
     "metadata": {},
     "output_type": "display_data"
    }
   ],
   "source": [
    "ctr_data['log_CTR'] = np.log10(ctr_data['CTR'] + 1e-9)\n",
    "\n",
    "# Plot the log-transformed CTR values\n",
    "plt.figure(figsize=(10, 6))\n",
    "plt.hist(ctr_data['log_CTR'], bins=100, color='blue', edgecolor='black')\n",
    "plt.title('Logarithmic Distribution of CTR Across Links')\n",
    "plt.xlabel('Log(CTR)')\n",
    "plt.ylabel('Number of Links')\n",
    "plt.show()"
   ]
  },
  {
   "cell_type": "code",
   "execution_count": null,
   "id": "e777374d-2f17-43dd-9cb7-3869e966765b",
   "metadata": {},
   "outputs": [],
   "source": []
  },
  {
   "cell_type": "code",
   "execution_count": null,
   "id": "00aa500c-30fc-44e1-9d5b-ae63c2b4ff68",
   "metadata": {},
   "outputs": [],
   "source": []
  },
  {
   "cell_type": "code",
   "execution_count": null,
   "id": "5f3eaa62-d7c5-4a93-af6e-66a04917182f",
   "metadata": {},
   "outputs": [],
   "source": []
  },
  {
   "cell_type": "code",
   "execution_count": 39,
   "id": "b7476424-0650-460e-b28e-94aee7554246",
   "metadata": {},
   "outputs": [],
   "source": [
    "# 5. Correlation Analysis"
   ]
  },
  {
   "cell_type": "code",
   "execution_count": 40,
   "id": "15e6b83e-d826-40ef-bbef-22edd8f6ffd2",
   "metadata": {},
   "outputs": [],
   "source": [
    "preview_count_per_link = df[df['event'] == 'preview'].groupby('linkid').size().reset_index(name='previews')"
   ]
  },
  {
   "cell_type": "code",
   "execution_count": 41,
   "id": "a120d5e7-798d-4469-ae81-ccb6fe95d939",
   "metadata": {},
   "outputs": [
    {
     "data": {
      "text/html": [
       "<div>\n",
       "<style scoped>\n",
       "    .dataframe tbody tr th:only-of-type {\n",
       "        vertical-align: middle;\n",
       "    }\n",
       "\n",
       "    .dataframe tbody tr th {\n",
       "        vertical-align: top;\n",
       "    }\n",
       "\n",
       "    .dataframe thead th {\n",
       "        text-align: right;\n",
       "    }\n",
       "</style>\n",
       "<table border=\"1\" class=\"dataframe\">\n",
       "  <thead>\n",
       "    <tr style=\"text-align: right;\">\n",
       "      <th></th>\n",
       "      <th>linkid</th>\n",
       "      <th>previews</th>\n",
       "    </tr>\n",
       "  </thead>\n",
       "  <tbody>\n",
       "    <tr>\n",
       "      <th>0</th>\n",
       "      <td>006af6a0-1f0d-4b0c-93bf-756af9071c06</td>\n",
       "      <td>11</td>\n",
       "    </tr>\n",
       "    <tr>\n",
       "      <th>1</th>\n",
       "      <td>00759b81-3f04-4a61-b934-f8fb3185f4a0</td>\n",
       "      <td>1</td>\n",
       "    </tr>\n",
       "    <tr>\n",
       "      <th>2</th>\n",
       "      <td>00829040-ee01-4409-966d-d67c7965144a</td>\n",
       "      <td>9</td>\n",
       "    </tr>\n",
       "    <tr>\n",
       "      <th>3</th>\n",
       "      <td>00de7566-f014-4d20-8616-82e4dea45b88</td>\n",
       "      <td>1</td>\n",
       "    </tr>\n",
       "    <tr>\n",
       "      <th>4</th>\n",
       "      <td>0211bf4d-0e9d-46c2-889c-f97872280820</td>\n",
       "      <td>141</td>\n",
       "    </tr>\n",
       "    <tr>\n",
       "      <th>...</th>\n",
       "      <td>...</td>\n",
       "      <td>...</td>\n",
       "    </tr>\n",
       "    <tr>\n",
       "      <th>490</th>\n",
       "      <td>fd647d87-4c7a-4dd1-92c6-0e7dd7fdf4f1</td>\n",
       "      <td>101</td>\n",
       "    </tr>\n",
       "    <tr>\n",
       "      <th>491</th>\n",
       "      <td>fe24ad63-e347-40db-8e75-94e573bd3d9b</td>\n",
       "      <td>1</td>\n",
       "    </tr>\n",
       "    <tr>\n",
       "      <th>492</th>\n",
       "      <td>fe8a3fcd-7beb-4db0-8494-5238e1e1cab3</td>\n",
       "      <td>57</td>\n",
       "    </tr>\n",
       "    <tr>\n",
       "      <th>493</th>\n",
       "      <td>fe8f7a23-be9d-49a6-b9b5-d26823c3f911</td>\n",
       "      <td>22</td>\n",
       "    </tr>\n",
       "    <tr>\n",
       "      <th>494</th>\n",
       "      <td>ffd8d5a7-91bc-48e1-a692-c26fca8a8ead</td>\n",
       "      <td>21</td>\n",
       "    </tr>\n",
       "  </tbody>\n",
       "</table>\n",
       "<p>495 rows × 2 columns</p>\n",
       "</div>"
      ],
      "text/plain": [
       "                                   linkid  previews\n",
       "0    006af6a0-1f0d-4b0c-93bf-756af9071c06        11\n",
       "1    00759b81-3f04-4a61-b934-f8fb3185f4a0         1\n",
       "2    00829040-ee01-4409-966d-d67c7965144a         9\n",
       "3    00de7566-f014-4d20-8616-82e4dea45b88         1\n",
       "4    0211bf4d-0e9d-46c2-889c-f97872280820       141\n",
       "..                                    ...       ...\n",
       "490  fd647d87-4c7a-4dd1-92c6-0e7dd7fdf4f1       101\n",
       "491  fe24ad63-e347-40db-8e75-94e573bd3d9b         1\n",
       "492  fe8a3fcd-7beb-4db0-8494-5238e1e1cab3        57\n",
       "493  fe8f7a23-be9d-49a6-b9b5-d26823c3f911        22\n",
       "494  ffd8d5a7-91bc-48e1-a692-c26fca8a8ead        21\n",
       "\n",
       "[495 rows x 2 columns]"
      ]
     },
     "execution_count": 41,
     "metadata": {},
     "output_type": "execute_result"
    }
   ],
   "source": [
    "preview_count_per_link"
   ]
  },
  {
   "cell_type": "code",
   "execution_count": 42,
   "id": "6db40a5a-85c7-4ef7-9a66-8e0de7e7e704",
   "metadata": {},
   "outputs": [],
   "source": [
    "ctr_preview_click = pd.merge(click_count_per_link, preview_count_per_link, on='linkid', how='left')"
   ]
  },
  {
   "cell_type": "code",
   "execution_count": 43,
   "id": "37bfceb4-0fb7-4684-8c01-7812c46f2cad",
   "metadata": {},
   "outputs": [
    {
     "data": {
      "text/html": [
       "<div>\n",
       "<style scoped>\n",
       "    .dataframe tbody tr th:only-of-type {\n",
       "        vertical-align: middle;\n",
       "    }\n",
       "\n",
       "    .dataframe tbody tr th {\n",
       "        vertical-align: top;\n",
       "    }\n",
       "\n",
       "    .dataframe thead th {\n",
       "        text-align: right;\n",
       "    }\n",
       "</style>\n",
       "<table border=\"1\" class=\"dataframe\">\n",
       "  <thead>\n",
       "    <tr style=\"text-align: right;\">\n",
       "      <th></th>\n",
       "      <th>linkid</th>\n",
       "      <th>clicks</th>\n",
       "      <th>previews</th>\n",
       "    </tr>\n",
       "  </thead>\n",
       "  <tbody>\n",
       "    <tr>\n",
       "      <th>0</th>\n",
       "      <td>00126b32-0c35-507b-981c-02c80d2aa8e7</td>\n",
       "      <td>2</td>\n",
       "      <td>NaN</td>\n",
       "    </tr>\n",
       "    <tr>\n",
       "      <th>1</th>\n",
       "      <td>004b9724-abca-5481-b6e9-6148a7ca00a5</td>\n",
       "      <td>1</td>\n",
       "      <td>NaN</td>\n",
       "    </tr>\n",
       "    <tr>\n",
       "      <th>2</th>\n",
       "      <td>0063a982-41cd-5629-96d0-e1c4dd72ea11</td>\n",
       "      <td>2</td>\n",
       "      <td>NaN</td>\n",
       "    </tr>\n",
       "    <tr>\n",
       "      <th>3</th>\n",
       "      <td>006af6a0-1f0d-4b0c-93bf-756af9071c06</td>\n",
       "      <td>8</td>\n",
       "      <td>11.0</td>\n",
       "    </tr>\n",
       "    <tr>\n",
       "      <th>4</th>\n",
       "      <td>00759b81-3f04-4a61-b934-f8fb3185f4a0</td>\n",
       "      <td>3</td>\n",
       "      <td>1.0</td>\n",
       "    </tr>\n",
       "    <tr>\n",
       "      <th>...</th>\n",
       "      <td>...</td>\n",
       "      <td>...</td>\n",
       "      <td>...</td>\n",
       "    </tr>\n",
       "    <tr>\n",
       "      <th>2250</th>\n",
       "      <td>ffd8d5a7-91bc-48e1-a692-c26fca8a8ead</td>\n",
       "      <td>29</td>\n",
       "      <td>21.0</td>\n",
       "    </tr>\n",
       "    <tr>\n",
       "      <th>2251</th>\n",
       "      <td>fff38ca0-8043-50cd-a5f1-f65ebb7105c5</td>\n",
       "      <td>1</td>\n",
       "      <td>NaN</td>\n",
       "    </tr>\n",
       "    <tr>\n",
       "      <th>2252</th>\n",
       "      <td>fff84c0e-90a1-59d8-9997-adc909d50e16</td>\n",
       "      <td>1</td>\n",
       "      <td>NaN</td>\n",
       "    </tr>\n",
       "    <tr>\n",
       "      <th>2253</th>\n",
       "      <td>fffc17a7-f935-5d3e-bd3e-d761fd80d479</td>\n",
       "      <td>1</td>\n",
       "      <td>NaN</td>\n",
       "    </tr>\n",
       "    <tr>\n",
       "      <th>2254</th>\n",
       "      <td>fffd0045-29de-522b-b5d8-35786363bf07</td>\n",
       "      <td>1</td>\n",
       "      <td>NaN</td>\n",
       "    </tr>\n",
       "  </tbody>\n",
       "</table>\n",
       "<p>2255 rows × 3 columns</p>\n",
       "</div>"
      ],
      "text/plain": [
       "                                    linkid  clicks  previews\n",
       "0     00126b32-0c35-507b-981c-02c80d2aa8e7       2       NaN\n",
       "1     004b9724-abca-5481-b6e9-6148a7ca00a5       1       NaN\n",
       "2     0063a982-41cd-5629-96d0-e1c4dd72ea11       2       NaN\n",
       "3     006af6a0-1f0d-4b0c-93bf-756af9071c06       8      11.0\n",
       "4     00759b81-3f04-4a61-b934-f8fb3185f4a0       3       1.0\n",
       "...                                    ...     ...       ...\n",
       "2250  ffd8d5a7-91bc-48e1-a692-c26fca8a8ead      29      21.0\n",
       "2251  fff38ca0-8043-50cd-a5f1-f65ebb7105c5       1       NaN\n",
       "2252  fff84c0e-90a1-59d8-9997-adc909d50e16       1       NaN\n",
       "2253  fffc17a7-f935-5d3e-bd3e-d761fd80d479       1       NaN\n",
       "2254  fffd0045-29de-522b-b5d8-35786363bf07       1       NaN\n",
       "\n",
       "[2255 rows x 3 columns]"
      ]
     },
     "execution_count": 43,
     "metadata": {},
     "output_type": "execute_result"
    }
   ],
   "source": [
    "ctr_preview_click"
   ]
  },
  {
   "cell_type": "code",
   "execution_count": 44,
   "id": "ea251e63-8d42-4e5b-95f5-ac78b7c3b441",
   "metadata": {},
   "outputs": [
    {
     "data": {
      "text/plain": [
       "linkid         0\n",
       "clicks         0\n",
       "previews    1791\n",
       "dtype: int64"
      ]
     },
     "execution_count": 44,
     "metadata": {},
     "output_type": "execute_result"
    }
   ],
   "source": [
    "ctr_preview_click.isnull().sum()"
   ]
  },
  {
   "cell_type": "code",
   "execution_count": 45,
   "id": "3a4aef31-046b-4cd6-9999-372680d30d50",
   "metadata": {},
   "outputs": [],
   "source": [
    "ctr_preview_click['previews'] = ctr_preview_click['previews'].fillna(0)"
   ]
  },
  {
   "cell_type": "code",
   "execution_count": 46,
   "id": "417a354f-1700-4893-8830-49b193ea0257",
   "metadata": {},
   "outputs": [
    {
     "data": {
      "text/plain": [
       "linkid      0\n",
       "clicks      0\n",
       "previews    0\n",
       "dtype: int64"
      ]
     },
     "execution_count": 46,
     "metadata": {},
     "output_type": "execute_result"
    }
   ],
   "source": [
    "ctr_preview_click.isnull().sum()"
   ]
  },
  {
   "cell_type": "code",
   "execution_count": 47,
   "id": "8b1eb413-fd42-4950-83da-589261e73a27",
   "metadata": {},
   "outputs": [
    {
     "data": {
      "text/html": [
       "<div>\n",
       "<style scoped>\n",
       "    .dataframe tbody tr th:only-of-type {\n",
       "        vertical-align: middle;\n",
       "    }\n",
       "\n",
       "    .dataframe tbody tr th {\n",
       "        vertical-align: top;\n",
       "    }\n",
       "\n",
       "    .dataframe thead th {\n",
       "        text-align: right;\n",
       "    }\n",
       "</style>\n",
       "<table border=\"1\" class=\"dataframe\">\n",
       "  <thead>\n",
       "    <tr style=\"text-align: right;\">\n",
       "      <th></th>\n",
       "      <th>linkid</th>\n",
       "      <th>clicks</th>\n",
       "      <th>previews</th>\n",
       "    </tr>\n",
       "  </thead>\n",
       "  <tbody>\n",
       "    <tr>\n",
       "      <th>0</th>\n",
       "      <td>00126b32-0c35-507b-981c-02c80d2aa8e7</td>\n",
       "      <td>2</td>\n",
       "      <td>0.0</td>\n",
       "    </tr>\n",
       "    <tr>\n",
       "      <th>1</th>\n",
       "      <td>004b9724-abca-5481-b6e9-6148a7ca00a5</td>\n",
       "      <td>1</td>\n",
       "      <td>0.0</td>\n",
       "    </tr>\n",
       "    <tr>\n",
       "      <th>2</th>\n",
       "      <td>0063a982-41cd-5629-96d0-e1c4dd72ea11</td>\n",
       "      <td>2</td>\n",
       "      <td>0.0</td>\n",
       "    </tr>\n",
       "    <tr>\n",
       "      <th>3</th>\n",
       "      <td>006af6a0-1f0d-4b0c-93bf-756af9071c06</td>\n",
       "      <td>8</td>\n",
       "      <td>11.0</td>\n",
       "    </tr>\n",
       "    <tr>\n",
       "      <th>4</th>\n",
       "      <td>00759b81-3f04-4a61-b934-f8fb3185f4a0</td>\n",
       "      <td>3</td>\n",
       "      <td>1.0</td>\n",
       "    </tr>\n",
       "    <tr>\n",
       "      <th>...</th>\n",
       "      <td>...</td>\n",
       "      <td>...</td>\n",
       "      <td>...</td>\n",
       "    </tr>\n",
       "    <tr>\n",
       "      <th>2250</th>\n",
       "      <td>ffd8d5a7-91bc-48e1-a692-c26fca8a8ead</td>\n",
       "      <td>29</td>\n",
       "      <td>21.0</td>\n",
       "    </tr>\n",
       "    <tr>\n",
       "      <th>2251</th>\n",
       "      <td>fff38ca0-8043-50cd-a5f1-f65ebb7105c5</td>\n",
       "      <td>1</td>\n",
       "      <td>0.0</td>\n",
       "    </tr>\n",
       "    <tr>\n",
       "      <th>2252</th>\n",
       "      <td>fff84c0e-90a1-59d8-9997-adc909d50e16</td>\n",
       "      <td>1</td>\n",
       "      <td>0.0</td>\n",
       "    </tr>\n",
       "    <tr>\n",
       "      <th>2253</th>\n",
       "      <td>fffc17a7-f935-5d3e-bd3e-d761fd80d479</td>\n",
       "      <td>1</td>\n",
       "      <td>0.0</td>\n",
       "    </tr>\n",
       "    <tr>\n",
       "      <th>2254</th>\n",
       "      <td>fffd0045-29de-522b-b5d8-35786363bf07</td>\n",
       "      <td>1</td>\n",
       "      <td>0.0</td>\n",
       "    </tr>\n",
       "  </tbody>\n",
       "</table>\n",
       "<p>2255 rows × 3 columns</p>\n",
       "</div>"
      ],
      "text/plain": [
       "                                    linkid  clicks  previews\n",
       "0     00126b32-0c35-507b-981c-02c80d2aa8e7       2       0.0\n",
       "1     004b9724-abca-5481-b6e9-6148a7ca00a5       1       0.0\n",
       "2     0063a982-41cd-5629-96d0-e1c4dd72ea11       2       0.0\n",
       "3     006af6a0-1f0d-4b0c-93bf-756af9071c06       8      11.0\n",
       "4     00759b81-3f04-4a61-b934-f8fb3185f4a0       3       1.0\n",
       "...                                    ...     ...       ...\n",
       "2250  ffd8d5a7-91bc-48e1-a692-c26fca8a8ead      29      21.0\n",
       "2251  fff38ca0-8043-50cd-a5f1-f65ebb7105c5       1       0.0\n",
       "2252  fff84c0e-90a1-59d8-9997-adc909d50e16       1       0.0\n",
       "2253  fffc17a7-f935-5d3e-bd3e-d761fd80d479       1       0.0\n",
       "2254  fffd0045-29de-522b-b5d8-35786363bf07       1       0.0\n",
       "\n",
       "[2255 rows x 3 columns]"
      ]
     },
     "execution_count": 47,
     "metadata": {},
     "output_type": "execute_result"
    }
   ],
   "source": [
    "ctr_preview_click"
   ]
  },
  {
   "cell_type": "code",
   "execution_count": 48,
   "id": "c11ed64b-4afc-439a-900b-1ce6608f6a8e",
   "metadata": {},
   "outputs": [
    {
     "data": {
      "image/png": "[encoded data removed]",
      "text/plain": [
       "<Figure size 1000x800 with 1 Axes>"
      ]
     },
     "metadata": {},
     "output_type": "display_data"
    }
   ],
   "source": [
    "plt.figure(figsize=(10, 8))\n",
    "sns.scatterplot(x='previews', y='clicks',data=ctr_preview_click)\n",
    "sns.regplot(x='previews', y='clicks', data=ctr_preview_click, scatter=False, color='red')\n",
    "plt.title('Scatter Plot: Clicks vs Previews for Each Link')\n",
    "plt.xlabel('Number of Previews')\n",
    "plt.ylabel('Number of Clicks')\n",
    "plt.show()"
   ]
  },
  {
   "cell_type": "code",
   "execution_count": 49,
   "id": "6aba9c1e-f201-481d-8d35-449bc06f8524",
   "metadata": {},
   "outputs": [
    {
     "name": "stdout",
     "output_type": "stream",
     "text": [
      "Pearson Correlation Coefficient: 0.9886850426804498\n",
      "P-value: 0.0\n"
     ]
    }
   ],
   "source": [
    "pearson_corr, pearson_p_value = pearsonr(ctr_preview_click['previews'], ctr_preview_click['clicks'])\n",
    "\n",
    "print(f\"Pearson Correlation Coefficient: {pearson_corr}\")\n",
    "print(f\"P-value: {pearson_p_value}\")"
   ]
  },
  {
   "cell_type": "code",
   "execution_count": 50,
   "id": "26917577-be90-4f0b-b122-b39ba95f8d7f",
   "metadata": {},
   "outputs": [
    {
     "name": "stdout",
     "output_type": "stream",
     "text": [
      "Spearman Correlation Coefficient: 0.7034731415371213\n",
      "P-value: 0.0\n"
     ]
    }
   ],
   "source": [
    "from scipy.stats import spearmanr\n",
    "\n",
    "spearman_corr, spearman_p_value = spearmanr(ctr_preview_click['previews'], ctr_preview_click['clicks'])\n",
    "\n",
    "print(f\"Spearman Correlation Coefficient: {spearman_corr}\")\n",
    "print(f\"P-value: {spearman_p_value}\")"
   ]
  },
  {
   "cell_type": "code",
   "execution_count": 51,
   "id": "edee0e09-ebce-49da-bf89-c8773ad09635",
   "metadata": {},
   "outputs": [
    {
     "name": "stdout",
     "output_type": "stream",
     "text": [
      "The Pearson correlation is statistically significant.\n"
     ]
    }
   ],
   "source": [
    "if pearson_p_value < 0.05:\n",
    "    print(\"The Pearson correlation is statistically significant.\")\n",
    "else:\n",
    "    print(\"The Pearson correlation is NOT statistically significant.\")"
   ]
  },
  {
   "cell_type": "code",
   "execution_count": 52,
   "id": "e07a6ee3-2ca5-44fa-8f88-b25ebaf07289",
   "metadata": {},
   "outputs": [
    {
     "data": {
      "image/png": "[encoded data removed]",
      "text/plain": [
       "<Figure size 600x400 with 2 Axes>"
      ]
     },
     "metadata": {},
     "output_type": "display_data"
    }
   ],
   "source": [
    "corr_matrix = ctr_preview_click[['clicks', 'previews']].corr()\n",
    "\n",
    "plt.figure(figsize=(6, 4))\n",
    "sns.heatmap(corr_matrix, annot=True, cmap='coolwarm', linewidths=0.5)\n",
    "plt.title('Correlation Matrix: Clicks and Previews')\n",
    "plt.show()"
   ]
  },
  {
   "cell_type": "code",
   "execution_count": 53,
   "id": "0c92be81-ae51-408c-a80d-3b390dd9fd4d",
   "metadata": {},
   "outputs": [],
   "source": [
    "# If Click increases by 1 then Previews increases by 0.99. That's High correlation between click and Preview"
   ]
  },
  {
   "cell_type": "code",
   "execution_count": null,
   "id": "ffebcec4-3054-418d-b770-fab641769b97",
   "metadata": {},
   "outputs": [],
   "source": []
  }
 ],
 "metadata": {
  "kernelspec": {
   "display_name": "Python 3 (ipykernel)",
   "language": "python",
   "name": "python3"
  },
  "language_info": {
   "codemirror_mode": {
    "name": "ipython",
    "version": 3
   },
   "file_extension": ".py",
   "mimetype": "text/x-python",
   "name": "python",
   "nbconvert_exporter": "python",
   "pygments_lexer": "ipython3",
   "version": "3.12.4"
  }
 },
 "nbformat": 4,
 "nbformat_minor": 5
}
